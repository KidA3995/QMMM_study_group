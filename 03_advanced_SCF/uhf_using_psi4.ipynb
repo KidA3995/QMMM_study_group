{
 "cells": [
  {
   "cell_type": "markdown",
   "metadata": {},
   "source": [
    "# SCF"
   ]
  },
  {
   "cell_type": "markdown",
   "metadata": {},
   "source": [
    "## Imports"
   ]
  },
  {
   "cell_type": "code",
   "execution_count": 1,
   "metadata": {},
   "outputs": [],
   "source": [
    "import numpy as np\n",
    "import scipy.linalg as spla\n",
    "import psi4\n",
    "import matplotlib.pyplot as plt\n",
    "import time\n",
    "%matplotlib notebook"
   ]
  },
  {
   "cell_type": "markdown",
   "metadata": {},
   "source": [
    "## Some useful resources:\n",
    " - Szabo and Ostlund Chapter 3 (for algorithm see page 146)\n",
    " - [Notes by David Sherrill](http://vergil.chemistry.gatech.edu/notes/hf-intro/hf-intro.html)\n",
    " - [Notes by Joshua Goings](http://joshuagoings.com/2013/04/24/hartree-fock-self-consistent-field-procedure/)\n",
    " - [Programming notes by Francesco Evangelista](http://www.evangelistalab.org/wp-content/uploads/2013/12/Hartree-Fock-Theory.pdf)\n",
    " - [Psi4Numpy SCF page](https://github.com/psi4/psi4numpy/tree/master/Tutorials/03_Hartree-Fock)\n",
    " - [Crawdad programming notes](http://sirius.chem.vt.edu/wiki/doku.php?id=crawdad:programming:project3)"
   ]
  },
  {
   "cell_type": "markdown",
   "metadata": {},
   "source": [
    "## The SCF algorithm from Szabo and Ostlund:\n",
    " 1. Specify a molecule (coordinates $\\{R_A\\}$, atomic numbers $\\{Z_A\\}$, number electrons $N$) and atomic orbital basis $\\{\\phi_\\mu\\}$.\n",
    " 2. Calculate molecular integrals over AOs ( overlap $S_{\\mu\\nu}$, core Hamiltonian $H^{\\mathrm{core}}_{\\mu\\nu}$, and 2  electron integrals $(\\mu \\nu | \\lambda \\sigma)$ ).\n",
    " 3. Diagonalize the overlap matrix $S$ to obtain the transformation matrix $X$.\n",
    " 4. Make a guess at the original density matrix $P$.\n",
    " 5. Calculate the intermediate matrix $G$ using the density matrix $P$ and the two electron integrals $(\\mu \\nu | \\lambda \\sigma)$.\n",
    " 6. Construct the Fock matrix $F$ from the core hamiltonian $H^{\\mathrm{core}}_{\\mu\\nu}$ and the intermediate matrix $G$.\n",
    " 7. Transform the Fock matrix $F' = X^\\dagger F X$.\n",
    " 8. Diagonalize the Fock matrix to get orbital energies $\\epsilon$ and molecular orbitals (in the transformed basis) $C'$.\n",
    " 9. Transform the molecular orbitals back to the AO basis $C = X C'$.\n",
    " 10. Form a new guess at the density matrix $P$ using $C$.\n",
    " 11. Check for convergence. (Are the changes in energy and/or density smaller than some threshold?) If not, return to step 5.\n",
    " 12. If converged, use the molecular orbitals $C$, density matrix $P$, and Fock matrix $F$ to calculate observables like the total Energy, etc."
   ]
  },
  {
   "cell_type": "markdown",
   "metadata": {},
   "source": [
    "## Quick note\n",
    "The reason we need to calculate the transformation matrix $X$ is because the atomic orbital basis is not orthonormal by default. This means without transformation we would need to solve a generalized eigenvalue problem $FC = ESC$. If we use scipy to solve this generalized eigenvalue problem we can simply the SCF algorithm.\n",
    "## Simplified SCF\n",
    " 1. Specify a molecule (coordinates $\\{R_A\\}$, atomic numbers $\\{Z_A\\}$, number electrons $N$) and atomic orbital basis $\\{\\phi_\\mu\\}$.\n",
    " 2. Calculate molecular integrals over AOs ( overlap $S_{\\mu\\nu}$, core Hamiltonian $H^{\\mathrm{core}}_{\\mu\\nu}$, and 2  electron integrals $(\\mu \\nu | \\lambda \\sigma)$ ).\n",
    " 3. Make a guess at the original density matrix $P$.\n",
    " 4. Calculate the intermediate matrix $G$ using the density matrix $P$ and the two electron integrals $(\\mu \\nu | \\lambda \\sigma)$.\n",
    " 5. Construct the Fock matrix $F$ from the core hamiltonian $H^{\\mathrm{core}}_{\\mu\\nu}$ and the intermediate matrix $G$. \n",
    " 6. Solve the generalized eigenvalue problem using the Fock matrix $F$ and the overlap matrix $S$ to get orbital energies $\\epsilon$ and molecular orbitals.\n",
    " 7. Form a new guess at the density matrix $P$ using $C$.\n",
    " 8. Check for convergence. (Are the changes in energy and/or density smaller than some threshold?) If not, return to step 4.\n",
    " 9. If converged, use the molecular orbitals $C$, density matrix $P$, and Fock matrix $F$ to calculate observables like the total Energy, etc.\n"
   ]
  },
  {
   "cell_type": "markdown",
   "metadata": {},
   "source": [
    "# STEP 1 : Specify the molecule"
   ]
  },
  {
   "cell_type": "code",
   "execution_count": 2,
   "metadata": {},
   "outputs": [],
   "source": [
    "# start timer\n",
    "start_time = time.time()\n",
    "# define molecule\n",
    "mol = psi4.geometry(\"\"\"\n",
    "-1 2\n",
    "O 0.0000000 0.0000000 0.0000000\n",
    "H 0.7569685 0.0000000 -0.5858752\n",
    "H -0.7569685 0.0000000 -0.5858752\n",
    "symmetry c1\n",
    "\"\"\")\n",
    "psi4.set_options({'basis': 'sto-3g'})\n",
    "wfn = psi4.core.Wavefunction.build(mol, psi4.core.get_global_option('BASIS'))\n",
    "mints = psi4.core.MintsHelper(wfn.basisset())\n",
    "# get number of electrons\n",
    "num_elec_alpha =  wfn.nalpha()\n",
    "num_elec_beta =  wfn.nbeta()\n",
    "num_elec = num_elec_alpha + num_elec_beta\n",
    "# get nuclear repulsion energy\n",
    "E_nuc =  mol.nuclear_repulsion_energy()"
   ]
  },
  {
   "cell_type": "markdown",
   "metadata": {},
   "source": [
    "# STEP 2 : Calculate molecular integrals \n",
    "\n",
    "Overlap \n",
    "\n",
    "$$ S_{\\mu\\nu} = (\\mu|\\nu) = \\int dr \\phi^*_{\\mu}(r) \\phi_{\\nu}(r) $$\n",
    "\n",
    "Kinetic\n",
    "\n",
    "$$ T_{\\mu\\nu} = (\\mu\\left|-\\frac{\\nabla}{2}\\right|\\nu) = \\int dr \\phi^*_{\\mu}(r) \\left(-\\frac{\\nabla}{2}\\right) \\phi_{\\nu}(r) $$\n",
    "\n",
    "Nuclear Attraction\n",
    "\n",
    "$$ V_{\\mu\\nu} = (\\mu|r^{-1}|\\nu) = \\int dr \\phi^*_{\\mu}(r) r^{-1} \\phi_{\\nu}(r) $$\n",
    "\n",
    "Form Core Hamiltonian\n",
    "\n",
    "$$ H = T + V $$\n",
    "\n",
    "Two electron integrals\n",
    "\n",
    "$$ (\\mu\\nu|\\lambda\\sigma) = \\int dr_1 dr_2 \\phi^*_{\\mu}(r_1) \\phi_{\\nu}(r_1) r_{12}^{-1} \\phi_{\\lambda}(r_2) \\phi_{\\sigma}(r_2) $$\n"
   ]
  },
  {
   "cell_type": "code",
   "execution_count": 3,
   "metadata": {},
   "outputs": [
    {
     "name": "stdout",
     "output_type": "stream",
     "text": [
      "(7, 7, 7, 7)\n"
     ]
    }
   ],
   "source": [
    "# calculate overlap integrals\n",
    "S = np.asarray(mints.ao_overlap())\n",
    "# calculate kinetic energy integrals\n",
    "T = np.asarray(mints.ao_kinetic())\n",
    "# calculate nuclear attraction integrals\n",
    "V = np.asarray(mints.ao_potential())\n",
    "# form core Hamiltonian\n",
    "H = T + V\n",
    "# calculate two electron integrals\n",
    "eri = np.asarray(mints.ao_eri())\n",
    "# get number of atomic orbitals\n",
    "num_ao = np.shape(S)[0]\n",
    "\n",
    "print(np.shape(eri))"
   ]
  },
  {
   "cell_type": "markdown",
   "metadata": {},
   "source": [
    "# STEP 3 : Form guess density matrix"
   ]
  },
  {
   "cell_type": "code",
   "execution_count": 4,
   "metadata": {},
   "outputs": [],
   "source": [
    "# set inital density matrix to zero\n",
    "D_total = np.zeros((num_ao,num_ao))\n",
    "D_alpha = np.zeros((num_ao,num_ao))\n",
    "D_beta = np.zeros((num_ao,num_ao))"
   ]
  },
  {
   "cell_type": "markdown",
   "metadata": {},
   "source": [
    "# STEPS 4 - 8 : SCF loop\n",
    "\n",
    " 4. Calculate the intermediate matrix $G$ using the density matrix $P$ and the two electron integrals $(\\mu \\nu | \\lambda \\sigma)$.\n",
    " \n",
    " $$G_{\\mu\\nu} = \\sum_{\\lambda\\sigma}^{\\mathrm{num\\_ao}} P_{\\lambda \\sigma}[2(\\mu\\nu|\\lambda\\sigma)-(\\mu\\lambda|\\nu\\sigma)]$$ \n",
    " \n",
    " 5. Construct the Fock matrix $F$ from the core hamiltonian $H^{\\mathrm{core}}_{\\mu\\nu}$ and the intermediate matrix $G$. \n",
    " \n",
    " $$ F = H + G $$\n",
    " \n",
    " 6. Solve the generalized eigenvalue problem using the Fock matrix $F$ and the overlap matrix $S$ to get orbital energies $\\epsilon$ and molecular orbitals.\n",
    " \n",
    " $$F C  = E  S C $$\n",
    " \n",
    " 7. Form a new guess at the density matrix $P$ using $C$.\n",
    " \n",
    " $$ P_{\\mu\\nu} = \\sum_{i}^{\\mathrm{num\\_elec}/2} C_{\\mu i} C_{\\nu i} $$\n",
    " \n",
    " 8. Check for convergence. (Are the changes in energy and/or density smaller than some threshold?) If not, return to step 4.\n",
    " \n",
    " $$ E_{\\mathrm{elec}}  = \\sum^{\\mathrm{num\\_ao}}_{\\mu\\nu} P_{\\mu\\nu} (H_{\\mu\\nu} + F_{\\mu\\nu})  $$\n",
    " $$ \\Delta E = E_{\\mathrm{new}} - E_{\\mathrm{old}} $$\n",
    " $$ |\\Delta P| = \\left[ \\sum^{\\mathrm{num\\_ao}}_{\\mu\\nu} [P^{\\mathrm{new}}_{\\mu\\nu} - P_{\\mu\\nu}^{\\mathrm{old}}]^2 \\right]^{1/2}$$\n",
    " \n",
    " 9. If converged, use the molecular orbitals $C$, density matrix $P$, and Fock matrix $F$ to calculate observables like the total Energy, etc.\n",
    " \n",
    " $$ E_{\\mathrm{total}} = V_{\\mathrm{NN}} + E_{\\mathrm{elec}} $$\n"
   ]
  },
  {
   "cell_type": "code",
   "execution_count": 5,
   "metadata": {},
   "outputs": [],
   "source": [
    "# 2 helper functions for printing during SCF\n",
    "def print_start_iterations():\n",
    "    print(\"{:^79}\".format(\"{:>4}  {:>11}  {:>11}  {:>11}  {:>11}\".format(\"Iter\", \"Time(s)\", \"RMSC DM\", \"delta E\", \"E_elec\")))\n",
    "    print(\"{:^79}\".format(\"{:>4}  {:>11}  {:>11}  {:>11}  {:>11}\".format(\"****\", \"*******\", \"*******\", \"*******\", \"******\")))\n",
    "def print_iteration(iteration_num, iteration_start_time, iteration_end_time, iteration_rmsc_dm, iteration_E_diff, E_elec):\n",
    "    print(\"{:^79}\".format(\"{:>4d}  {:>11f}  {:>.5E}  {:>.5E}  {:>11f}\".format(iteration_num, iteration_end_time - iteration_start_time, iteration_rmsc_dm, iteration_E_diff, E_elec)))\n",
    "\n",
    "# set stopping criteria\n",
    "iteration_max = 100\n",
    "convergence_E = 1e-9\n",
    "convergence_DM = 1e-5\n",
    "# loop variables\n",
    "iteration_num = 0\n",
    "E_total = 0\n",
    "E_elec = 0.0\n",
    "iteration_E_diff = 0.0\n",
    "iteration_rmsc_dm = 0.0\n",
    "converged = False\n",
    "exceeded_iterations = False\n"
   ]
  },
  {
   "cell_type": "code",
   "execution_count": 6,
   "metadata": {},
   "outputs": [
    {
     "name": "stdout",
     "output_type": "stream",
     "text": [
      "           Iter      Time(s)      RMSC DM      delta E       E_elec            \n",
      "           ****      *******      *******      *******       ******            \n",
      "              1     0.015757  5.91371E+00  1.31600E+02  -131.599702            \n",
      "              2     0.006578  2.95622E+00  5.14128E+01   -80.186891            \n",
      "              3     0.005337  1.16308E-01  2.98211E+00   -83.169005            \n",
      "              4     0.005178  2.50466E-02  5.78616E-02   -83.111144            \n",
      "              5     0.005384  4.77989E-03  3.16961E-02   -83.142840            \n",
      "              6     0.004708  2.30330E-03  2.38236E-03   -83.145222            \n",
      "              7     0.004458  1.10232E-03  9.42227E-04   -83.146164            \n",
      "              8     0.004696  5.27878E-04  2.44228E-04   -83.146408            \n",
      "              9     0.004453  2.51209E-04  7.92941E-05   -83.146488            \n",
      "             10     0.004343  1.18480E-04  2.53767E-05   -83.146513            \n",
      "             11     0.004469  5.52795E-05  8.11285E-06   -83.146521            \n",
      "             12     0.005027  2.55100E-05  2.49915E-06   -83.146524            \n",
      "             13     0.004355  1.16539E-05  7.19845E-07   -83.146524            \n",
      "             14     0.004301  5.27728E-06  1.80830E-07   -83.146525            \n",
      "             15     0.004613  2.37195E-06  3.08868E-08   -83.146525            \n",
      "             16     0.004431  1.05948E-06  3.82865E-09   -83.146525            \n",
      "             17     0.004278  4.70795E-07  7.90295E-09   -83.146525            \n",
      "             18     0.004278  2.08312E-07  5.68988E-09   -83.146525            \n",
      "             19     0.004394  9.18467E-08  3.28751E-09   -83.146525            \n",
      "             20     0.004395  4.03780E-08  1.72282E-09   -83.146525            \n",
      "             21     0.004441  1.77083E-08  8.54740E-10   -83.146525            \n"
     ]
    }
   ],
   "source": [
    "print_start_iterations()\n",
    "while (not converged and not exceeded_iterations):\n",
    "    # store last iteration and increment counters\n",
    "    iteration_start_time = time.time()\n",
    "    iteration_num += 1\n",
    "    E_elec_last = E_elec\n",
    "    D_total_last = np.copy(D_total)\n",
    "    # form G matrix\n",
    "    G_alpha = np.zeros((num_ao,num_ao))\n",
    "    G_beta = np.zeros((num_ao,num_ao))\n",
    "    \n",
    "    #########################################################\n",
    "    # FILL IN HOW TO MAKE THE G MATRICES HERE\n",
    "    #########################################################\n",
    "    for i in range(num_ao):\n",
    "        for j in range(num_ao):\n",
    "            for k in range(num_ao):\n",
    "                for l in range(num_ao):\n",
    "                    G_alpha[i,j] += D_alpha[k,l] * ((2.0*(eri[i,j,k,l])) - (eri[i,k,j,l]))\n",
    "                    G_beta[i,j] += D_beta[k,l] * ((2.0*(eri[i,j,k,l])) - (eri[i,k,j,l]))\n",
    "    \n",
    "    # build fock matrices\n",
    "    \n",
    "    F_alpha  = H + G_alpha\n",
    "    F_beta  = H + G_beta\n",
    "    \n",
    "    #########################################################\n",
    "    # FILL IN HOW TO MAKE THE FOCK MATRICES HERE\n",
    "    #########################################################\n",
    "    \n",
    "    # solve the generalized eigenvalue problem\n",
    "    E_orbitals_alpha, C_alpha = spla.eigh(F_alpha,S)\n",
    "    E_orbitals_beta, C_beta = spla.eigh(F_beta,S)\n",
    "    # compute new density matrix\n",
    "    D_alpha = np.zeros((num_ao,num_ao))\n",
    "    D_beta = np.zeros((num_ao,num_ao))\n",
    "    \n",
    "    for i in range(num_ao):\n",
    "        for j in range(num_ao):\n",
    "            for k in range(num_elec_alpha):\n",
    "                D_alpha[i,j] +=  C_alpha[i,k] * C_alpha[j,k]\n",
    "            for k in range(num_elec_beta):\n",
    "                D_beta[i,j] +=  C_beta[i,k] * C_beta[j,k]\n",
    "    D_total = D_alpha + D_beta\n",
    "    #########################################################\n",
    "    # FILL IN HOW TO MAKE THE DENSITY MATRICES HERE\n",
    "    #########################################################\n",
    "    E_elec = 0.5 * np.sum(np.multiply((D_total), H) + np.multiply(D_alpha, F_alpha) + np.multiply(D_beta, F_beta))\n",
    "    # calculate electronic energy\n",
    "    \n",
    "    #########################################################\n",
    "    # FILL IN HOW TO CALCULATE THE ELECTRONIC ENERGY HERE\n",
    "    #########################################################\n",
    "    \n",
    "    # calculate energy change of iteration\n",
    "    iteration_E_diff = np.abs(E_elec - E_elec_last)\n",
    "    # rms change of density matrix\n",
    "    iteration_rmsc_dm = np.sqrt(np.sum((D_total - D_total_last)**2))\n",
    "    iteration_end_time = time.time()\n",
    "    print_iteration(iteration_num, iteration_start_time, iteration_end_time, iteration_rmsc_dm, iteration_E_diff, E_elec)\n",
    "    if(np.abs(iteration_E_diff) < convergence_E and iteration_rmsc_dm < convergence_DM): \n",
    "        converged = True\n",
    "    if(iteration_num == iteration_max):\n",
    "        exceeded_iterations = True"
   ]
  },
  {
   "cell_type": "markdown",
   "metadata": {},
   "source": [
    "# STEP 9 : Calculate Observables"
   ]
  },
  {
   "cell_type": "code",
   "execution_count": 7,
   "metadata": {},
   "outputs": [],
   "source": [
    "# calculate total energy\n",
    "E_total = E_elec + E_nuc\n",
    "####################################################\n",
    "# FILL IN HOW TO CALCULATE THE TOTAL ENERGY HERE\n",
    "####################################################"
   ]
  },
  {
   "cell_type": "code",
   "execution_count": 8,
   "metadata": {},
   "outputs": [
    {
     "name": "stdout",
     "output_type": "stream",
     "text": [
      "                          Total Energy :  -73.951661                           \n"
     ]
    }
   ],
   "source": [
    "print(\"{:^79}\".format(\"Total Energy : {:>11f}\".format(E_total)))"
   ]
  },
  {
   "cell_type": "code",
   "execution_count": null,
   "metadata": {},
   "outputs": [],
   "source": []
  }
 ],
 "metadata": {
  "kernelspec": {
   "display_name": "Python 3",
   "language": "python",
   "name": "python3"
  },
  "language_info": {
   "codemirror_mode": {
    "name": "ipython",
    "version": 3
   },
   "file_extension": ".py",
   "mimetype": "text/x-python",
   "name": "python",
   "nbconvert_exporter": "python",
   "pygments_lexer": "ipython3",
   "version": "3.6.6"
  }
 },
 "nbformat": 4,
 "nbformat_minor": 2
}
